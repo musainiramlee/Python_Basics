{
 "cells": [
  {
   "cell_type": "markdown",
   "metadata": {},
   "source": [
    "### **TRY and EXCEPT** method"
   ]
  },
  {
   "cell_type": "markdown",
   "metadata": {},
   "source": [
    "In order to write a 'safe' and working program, we do not want the program crashes if the input is not compatible to the intended one.   \n",
    "We need to anticipate the worst case scenario and prepare to prevent the program from crashing."
   ]
  },
  {
   "cell_type": "code",
   "execution_count": 2,
   "metadata": {},
   "outputs": [
    {
     "name": "stdin",
     "output_type": "stream",
     "text": [
      "Please input your Birth Year  1990\n"
     ]
    },
    {
     "name": "stdout",
     "output_type": "stream",
     "text": [
      "Your age is 30 years old\n"
     ]
    }
   ],
   "source": [
    "# Example\n",
    "\n",
    "birth_year = int(input('Please input your Birth Year '))\n",
    "age = (2020 - birth_year)\n",
    "print(f'Your age is {age} years old')"
   ]
  },
  {
   "cell_type": "code",
   "execution_count": 4,
   "metadata": {},
   "outputs": [
    {
     "name": "stdin",
     "output_type": "stream",
     "text": [
      "Please input your Birth Year  oikjds\n"
     ]
    },
    {
     "ename": "ValueError",
     "evalue": "invalid literal for int() with base 10: 'oikjds'",
     "output_type": "error",
     "traceback": [
      "\u001b[0;31m---------------------------------------------------------------------------\u001b[0m",
      "\u001b[0;31mValueError\u001b[0m                                Traceback (most recent call last)",
      "\u001b[0;32m<ipython-input-4-c376af5060dc>\u001b[0m in \u001b[0;36m<module>\u001b[0;34m\u001b[0m\n\u001b[1;32m      1\u001b[0m \u001b[0;31m# Youu will see an error if the user input anything other than numbers *ValueError*\u001b[0m\u001b[0;34m\u001b[0m\u001b[0;34m\u001b[0m\u001b[0;34m\u001b[0m\u001b[0m\n\u001b[1;32m      2\u001b[0m \u001b[0;34m\u001b[0m\u001b[0m\n\u001b[0;32m----> 3\u001b[0;31m \u001b[0mbirth_year\u001b[0m \u001b[0;34m=\u001b[0m \u001b[0mint\u001b[0m\u001b[0;34m(\u001b[0m\u001b[0minput\u001b[0m\u001b[0;34m(\u001b[0m\u001b[0;34m'Please input your Birth Year '\u001b[0m\u001b[0;34m)\u001b[0m\u001b[0;34m)\u001b[0m\u001b[0;34m\u001b[0m\u001b[0;34m\u001b[0m\u001b[0m\n\u001b[0m\u001b[1;32m      4\u001b[0m \u001b[0mage\u001b[0m \u001b[0;34m=\u001b[0m \u001b[0;34m(\u001b[0m\u001b[0;36m2020\u001b[0m \u001b[0;34m-\u001b[0m \u001b[0mbirth_year\u001b[0m\u001b[0;34m)\u001b[0m\u001b[0;34m\u001b[0m\u001b[0;34m\u001b[0m\u001b[0m\n\u001b[1;32m      5\u001b[0m \u001b[0mprint\u001b[0m\u001b[0;34m(\u001b[0m\u001b[0;34mf'Your age is {age} years old'\u001b[0m\u001b[0;34m)\u001b[0m\u001b[0;34m\u001b[0m\u001b[0;34m\u001b[0m\u001b[0m\n",
      "\u001b[0;31mValueError\u001b[0m: invalid literal for int() with base 10: 'oikjds'"
     ]
    }
   ],
   "source": [
    "# Youu will see an error if the user input anything other than numbers *ValueError*\n",
    "\n",
    "birth_year = int(input('Please input your Birth Year '))\n",
    "age = (2020 - birth_year)\n",
    "print(f'Your age is {age} years old')"
   ]
  },
  {
   "cell_type": "code",
   "execution_count": 5,
   "metadata": {},
   "outputs": [
    {
     "name": "stdin",
     "output_type": "stream",
     "text": [
      "Please input your Birth Year  lkjk\n"
     ]
    },
    {
     "name": "stdout",
     "output_type": "stream",
     "text": [
      "Please input numbers as the birth year\n"
     ]
    }
   ],
   "source": [
    "# Therefore, in order to prevent such error, we can use TRY and EXCEPT methods\n",
    "\n",
    "try:\n",
    "    birth_year = int(input('Please input your Birth Year '))\n",
    "    age = (2020 - birth_year)\n",
    "    print(f'Your age is {age} years old')\n",
    "except ValueError:\n",
    "    print('Please input numbers as the birth year')"
   ]
  },
  {
   "cell_type": "code",
   "execution_count": 7,
   "metadata": {},
   "outputs": [
    {
     "name": "stdin",
     "output_type": "stream",
     "text": [
      "Please put in the total price for this item 123.0\n",
      "How many items? 0\n"
     ]
    },
    {
     "ename": "ZeroDivisionError",
     "evalue": "float division by zero",
     "output_type": "error",
     "traceback": [
      "\u001b[0;31m---------------------------------------------------------------------------\u001b[0m",
      "\u001b[0;31mZeroDivisionError\u001b[0m                         Traceback (most recent call last)",
      "\u001b[0;32m<ipython-input-7-e016abebfdce>\u001b[0m in \u001b[0;36m<module>\u001b[0;34m\u001b[0m\n\u001b[1;32m      3\u001b[0m \u001b[0mtotal_price\u001b[0m \u001b[0;34m=\u001b[0m \u001b[0mfloat\u001b[0m\u001b[0;34m(\u001b[0m\u001b[0minput\u001b[0m\u001b[0;34m(\u001b[0m\u001b[0;34m'Please put in the total price for this item'\u001b[0m\u001b[0;34m)\u001b[0m\u001b[0;34m)\u001b[0m\u001b[0;34m\u001b[0m\u001b[0;34m\u001b[0m\u001b[0m\n\u001b[1;32m      4\u001b[0m \u001b[0mqty\u001b[0m \u001b[0;34m=\u001b[0m \u001b[0mint\u001b[0m\u001b[0;34m(\u001b[0m\u001b[0minput\u001b[0m\u001b[0;34m(\u001b[0m\u001b[0;34m'How many items?'\u001b[0m\u001b[0;34m)\u001b[0m\u001b[0;34m)\u001b[0m\u001b[0;34m\u001b[0m\u001b[0;34m\u001b[0m\u001b[0m\n\u001b[0;32m----> 5\u001b[0;31m \u001b[0mprice_per_qty\u001b[0m \u001b[0;34m=\u001b[0m \u001b[0mtotal_price\u001b[0m\u001b[0;34m/\u001b[0m\u001b[0mqty\u001b[0m\u001b[0;34m\u001b[0m\u001b[0;34m\u001b[0m\u001b[0m\n\u001b[0m\u001b[1;32m      6\u001b[0m \u001b[0mprint\u001b[0m\u001b[0;34m(\u001b[0m\u001b[0mprice_per_qty\u001b[0m\u001b[0;34m)\u001b[0m\u001b[0;34m\u001b[0m\u001b[0;34m\u001b[0m\u001b[0m\n",
      "\u001b[0;31mZeroDivisionError\u001b[0m: float division by zero"
     ]
    }
   ],
   "source": [
    "# ZeroDivisionError (see example below) - error when zero is used for denominator\n",
    "\n",
    "total_price = float(input('Please put in the total price for this item'))\n",
    "qty = int(input('How many items?'))\n",
    "price_per_qty = total_price/qty\n",
    "print(price_per_qty)"
   ]
  },
  {
   "cell_type": "code",
   "execution_count": 8,
   "metadata": {},
   "outputs": [
    {
     "name": "stdin",
     "output_type": "stream",
     "text": [
      "Please put in the total price for this item asde\n"
     ]
    },
    {
     "name": "stdout",
     "output_type": "stream",
     "text": [
      "Price must be in numbers\n"
     ]
    }
   ],
   "source": [
    "# To prevent such error, use Try and Except method.\n",
    "\n",
    "try:\n",
    "    total_price = float(input('Please put in the total price for this item'))\n",
    "    qty = int(input('How many items?'))\n",
    "    price_per_qty = total_price/qty\n",
    "    print(price_per_qty)\n",
    "except ZeroDivisionError:\n",
    "    print('Please key in value other than 0')\n",
    "except ValueError:\n",
    "    print('Price must be in numbers')\n",
    "\n"
   ]
  },
  {
   "cell_type": "code",
   "execution_count": 9,
   "metadata": {},
   "outputs": [
    {
     "name": "stdin",
     "output_type": "stream",
     "text": [
      "Please put in the total price for this item 1234\n",
      "How many items? 0\n"
     ]
    },
    {
     "name": "stdout",
     "output_type": "stream",
     "text": [
      "Please key in value other than 0\n"
     ]
    }
   ],
   "source": [
    "try:\n",
    "    total_price = float(input('Please put in the total price for this item'))\n",
    "    qty = int(input('How many items?'))\n",
    "    price_per_qty = total_price/qty\n",
    "    print(price_per_qty)\n",
    "except ZeroDivisionError:\n",
    "    print('Please key in value other than 0')\n",
    "except ValueError:\n",
    "    print('Price must be in numbers')"
   ]
  },
  {
   "cell_type": "code",
   "execution_count": 10,
   "metadata": {},
   "outputs": [
    {
     "name": "stdin",
     "output_type": "stream",
     "text": [
      "Please put in the total price for this item 98034\n",
      "How many items? 123\n"
     ]
    },
    {
     "name": "stdout",
     "output_type": "stream",
     "text": [
      "797.0243902439024\n"
     ]
    }
   ],
   "source": [
    "try:\n",
    "    total_price = float(input('Please put in the total price for this item'))\n",
    "    qty = int(input('How many items?'))\n",
    "    price_per_qty = total_price/qty\n",
    "    print(price_per_qty)\n",
    "except ZeroDivisionError:\n",
    "    print('Please key in value other than 0')\n",
    "except ValueError:\n",
    "    print('Price must be in numbers')"
   ]
  },
  {
   "cell_type": "code",
   "execution_count": null,
   "metadata": {},
   "outputs": [],
   "source": []
  }
 ],
 "metadata": {
  "kernelspec": {
   "display_name": "Python",
   "language": "python",
   "name": "conda-env-python-py"
  },
  "language_info": {
   "codemirror_mode": {
    "name": "ipython",
    "version": 3
   },
   "file_extension": ".py",
   "mimetype": "text/x-python",
   "name": "python",
   "nbconvert_exporter": "python",
   "pygments_lexer": "ipython3",
   "version": "3.6.10"
  }
 },
 "nbformat": 4,
 "nbformat_minor": 4
}
