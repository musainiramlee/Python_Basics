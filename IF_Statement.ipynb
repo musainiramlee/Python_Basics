{
 "cells": [
  {
   "cell_type": "markdown",
   "metadata": {},
   "source": [
    "## IF, ELSE & ELSE IF STATEMENTS"
   ]
  },
  {
   "cell_type": "markdown",
   "metadata": {},
   "source": [
    "Situation 1\n",
    "\n",
    "* If it is a Hot Day, print messages > \"Today is a hot day\" & \"Drink a lot of water\"\n",
    "* If it is a Cold Day, print messages > \"Today is a cold day\" & \"Wear warm clothes\"\n",
    "* Regardless, print message > \"Have a good day!\""
   ]
  },
  {
   "cell_type": "code",
   "execution_count": 6,
   "metadata": {},
   "outputs": [
    {
     "name": "stdout",
     "output_type": "stream",
     "text": [
      "Hi there!\n",
      "Today is a hot day\n",
      "Drink a lot of water\n",
      "Have a good day!\n"
     ]
    }
   ],
   "source": [
    "hot_day = True\n",
    "\n",
    "print('Hi there!')\n",
    "\n",
    "if hot_day:\n",
    "    print('Today is a hot day')\n",
    "    print('Drink a lot of water')\n",
    "else:\n",
    "    print('Today is a cold day')\n",
    "    print('Wear warm clothes')\n",
    "    \n",
    "print('Have a good day!')"
   ]
  },
  {
   "cell_type": "markdown",
   "metadata": {},
   "source": [
    "    "
   ]
  },
  {
   "cell_type": "code",
   "execution_count": 7,
   "metadata": {},
   "outputs": [
    {
     "name": "stdout",
     "output_type": "stream",
     "text": [
      "Hi there!\n",
      "Today is a cold day\n",
      "Wear warm clothes\n",
      "Have a good day!\n"
     ]
    }
   ],
   "source": [
    "#Let's see if it is a cold day\n",
    "\n",
    "hot_day = False\n",
    "\n",
    "print('Hi there!')\n",
    "\n",
    "if hot_day:\n",
    "    print('Today is a hot day')\n",
    "    print('Drink a lot of water')\n",
    "else:\n",
    "    print('Today is a cold day')\n",
    "    print('Wear warm clothes')\n",
    "    \n",
    "print('Have a good day!')"
   ]
  },
  {
   "cell_type": "markdown",
   "metadata": {},
   "source": [
    "  "
   ]
  },
  {
   "cell_type": "markdown",
   "metadata": {},
   "source": [
    "**But in reality, if it not hot, then, it doesn't necessarily means, it is a cold day**"
   ]
  },
  {
   "cell_type": "markdown",
   "metadata": {},
   "source": [
    "Use ELIF function."
   ]
  },
  {
   "cell_type": "code",
   "execution_count": 10,
   "metadata": {},
   "outputs": [
    {
     "name": "stdout",
     "output_type": "stream",
     "text": [
      "Hi there!\n",
      "It's a lovely day!\n",
      "Have a good day!\n"
     ]
    }
   ],
   "source": [
    "hot_day = False\n",
    "cold_day = False\n",
    "\n",
    "print('Hi there!')\n",
    "\n",
    "if hot_day:\n",
    "    print('Today is a hot day')\n",
    "    print('Drink a lot of water')\n",
    "elif cold_day:\n",
    "    print('Today is a cold day')\n",
    "    print('Wear warm clothes')\n",
    "else:\n",
    "    print(\"It's a lovely day!\")\n",
    "    \n",
    "print('Have a good day!')"
   ]
  },
  {
   "cell_type": "markdown",
   "metadata": {},
   "source": [
    "   "
   ]
  },
  {
   "cell_type": "code",
   "execution_count": 11,
   "metadata": {},
   "outputs": [
    {
     "name": "stdout",
     "output_type": "stream",
     "text": [
      "Hi there!\n",
      "Today is a hot day\n",
      "Drink a lot of water\n",
      "Have a good day!\n"
     ]
    }
   ],
   "source": [
    "hot_day = True\n",
    "cold_day = False\n",
    "\n",
    "print('Hi there!')\n",
    "\n",
    "if hot_day:\n",
    "    print('Today is a hot day')\n",
    "    print('Drink a lot of water')\n",
    "elif cold_day:\n",
    "    print('Today is a cold day')\n",
    "    print('Wear warm clothes')\n",
    "else:\n",
    "    print(\"It's a lovely day!\")\n",
    "    \n",
    "print('Have a good day!')"
   ]
  },
  {
   "cell_type": "markdown",
   "metadata": {},
   "source": [
    "   "
   ]
  },
  {
   "cell_type": "markdown",
   "metadata": {},
   "source": [
    "**Exercise -**    \n",
    "House Price is $1mil     \n",
    "If a customer credit rating is good > pay 10% downpayment    \n",
    "If a customer credit rating is medium > pay 20%     \n",
    "If a customer credit rating is bad > not qualified (print loan rejected)"
   ]
  },
  {
   "cell_type": "code",
   "execution_count": 12,
   "metadata": {},
   "outputs": [],
   "source": [
    "price = 1000000"
   ]
  },
  {
   "cell_type": "code",
   "execution_count": 14,
   "metadata": {},
   "outputs": [
    {
     "name": "stdout",
     "output_type": "stream",
     "text": [
      "Need to pay 10% downpayment\n"
     ]
    }
   ],
   "source": [
    "rating_good = True\n",
    "rating_medium = False\n",
    "\n",
    "if rating_good:\n",
    "    print('Need to pay 10% downpayment')\n",
    "elif rating_medium:\n",
    "    print('Need to pay 20% downpayment')\n",
    "else:\n",
    "    print('Loan rejected')"
   ]
  },
  {
   "cell_type": "code",
   "execution_count": null,
   "metadata": {},
   "outputs": [],
   "source": []
  },
  {
   "cell_type": "code",
   "execution_count": 16,
   "metadata": {},
   "outputs": [
    {
     "ename": "SyntaxError",
     "evalue": "EOL while scanning string literal (<ipython-input-16-605c014a7aef>, line 11)",
     "output_type": "error",
     "traceback": [
      "\u001b[0;36m  File \u001b[0;32m\"<ipython-input-16-605c014a7aef>\"\u001b[0;36m, line \u001b[0;32m11\u001b[0m\n\u001b[0;31m    print(f'need to pay ${downpayment} as downpayment)\u001b[0m\n\u001b[0m                                                      ^\u001b[0m\n\u001b[0;31mSyntaxError\u001b[0m\u001b[0;31m:\u001b[0m EOL while scanning string literal\n"
     ]
    }
   ],
   "source": [
    "rating_good = True\n",
    "rating_medium = False\n",
    "\n",
    "if rating_good:\n",
    "    downpayment = 0.1*price\n",
    "elif rating_medium:\n",
    "    downpayment = 0.2*price\n",
    "else:\n",
    "    print('Loan rejected')\n",
    "    \n",
    "print(f'need to pay ${downpayment} as downpayment)"
   ]
  },
  {
   "cell_type": "code",
   "execution_count": null,
   "metadata": {},
   "outputs": [],
   "source": []
  }
 ],
 "metadata": {
  "kernelspec": {
   "display_name": "Python",
   "language": "python",
   "name": "conda-env-python-py"
  },
  "language_info": {
   "codemirror_mode": {
    "name": "ipython",
    "version": 3
   },
   "file_extension": ".py",
   "mimetype": "text/x-python",
   "name": "python",
   "nbconvert_exporter": "python",
   "pygments_lexer": "ipython3",
   "version": "3.6.10"
  }
 },
 "nbformat": 4,
 "nbformat_minor": 4
}
