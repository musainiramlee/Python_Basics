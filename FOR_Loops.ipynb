{
 "cells": [
  {
   "cell_type": "markdown",
   "metadata": {},
   "source": [
    "## 'For' Loops"
   ]
  },
  {
   "cell_type": "markdown",
   "metadata": {},
   "source": [
    "In for loops, we can easily select each element in a list or a 'collection' and use that each element in our process."
   ]
  },
  {
   "cell_type": "markdown",
   "metadata": {},
   "source": [
    "* We can use for loops to select and print every element of a string"
   ]
  },
  {
   "cell_type": "code",
   "execution_count": 2,
   "metadata": {},
   "outputs": [
    {
     "name": "stdout",
     "output_type": "stream",
     "text": [
      "C\n",
      "o\n",
      "r\n",
      "o\n",
      "n\n",
      "a\n",
      "v\n",
      "i\n",
      "r\n",
      "u\n",
      "s\n"
     ]
    }
   ],
   "source": [
    "for letters in 'Coronavirus':\n",
    "    print(letters)"
   ]
  },
  {
   "cell_type": "code",
   "execution_count": 5,
   "metadata": {},
   "outputs": [
    {
     "name": "stdout",
     "output_type": "stream",
     "text": [
      "C19\n",
      "o19\n",
      "r19\n",
      "o19\n",
      "n19\n",
      "a19\n",
      "v19\n",
      "i19\n",
      "r19\n",
      "u19\n",
      "s19\n"
     ]
    }
   ],
   "source": [
    "C = 'Coronavirus'\n",
    "for letters in C:\n",
    "    C = letters + '19'\n",
    "    print(C)"
   ]
  },
  {
   "cell_type": "markdown",
   "metadata": {},
   "source": [
    "* For loops can also be used to iterate a list"
   ]
  },
  {
   "cell_type": "code",
   "execution_count": 8,
   "metadata": {},
   "outputs": [
    {
     "name": "stdout",
     "output_type": "stream",
     "text": [
      "Prices with tax = $10.600000000000001 2\n",
      "Prices with tax = $31.8 2\n",
      "Prices with tax = $53.0 2\n",
      "Prices with tax = $75.15400000000001 2\n",
      "Prices with tax = $244.86 2\n"
     ]
    }
   ],
   "source": [
    "Prices = [10, 30, 50, 70.9, 231]\n",
    "for price in Prices:\n",
    "    print('Prices with tax = $' + str(price*1.06),2)"
   ]
  },
  {
   "cell_type": "code",
   "execution_count": 18,
   "metadata": {},
   "outputs": [
    {
     "name": "stdout",
     "output_type": "stream",
     "text": [
      "Total price is $391.9\n"
     ]
    }
   ],
   "source": [
    "Prices = [10, 30, 50, 70.9, 231]\n",
    "Total = 0\n",
    "for price in Prices:\n",
    "    Total += price #Augmented assignment means Total = Total + price\n",
    "print(f\"Total price is ${Total}\")"
   ]
  },
  {
   "cell_type": "code",
   "execution_count": null,
   "metadata": {},
   "outputs": [],
   "source": []
  }
 ],
 "metadata": {
  "kernelspec": {
   "display_name": "Python",
   "language": "python",
   "name": "conda-env-python-py"
  },
  "language_info": {
   "codemirror_mode": {
    "name": "ipython",
    "version": 3
   },
   "file_extension": ".py",
   "mimetype": "text/x-python",
   "name": "python",
   "nbconvert_exporter": "python",
   "pygments_lexer": "ipython3",
   "version": "3.6.10"
  }
 },
 "nbformat": 4,
 "nbformat_minor": 4
}
