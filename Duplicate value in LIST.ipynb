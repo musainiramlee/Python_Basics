{
 "cells": [
  {
   "cell_type": "markdown",
   "metadata": {},
   "source": [
    "### **How to remove duplicates values in a Python List?**"
   ]
  },
  {
   "cell_type": "code",
   "execution_count": 2,
   "metadata": {},
   "outputs": [
    {
     "name": "stdout",
     "output_type": "stream",
     "text": [
      "[3, 7, 9, 8, 10, 20, 12, 1]\n"
     ]
    }
   ],
   "source": [
    "# Eg.\n",
    "## Let say we have a list with a bunch of duplicate values\n",
    "numbers = (3, 7, 9, 8, 10, 20, 10, 12, 8, 9, 1, 3)\n",
    "\n",
    "# We can create a loop to iterate and append only unique element into a new list.\n",
    "unique = [] # create an empty list first\n",
    "\n",
    "for number in numbers:\n",
    "    if number not in unique:\n",
    "        unique.append(number)\n",
    "print(unique)\n",
    "\n",
    "# Voila!"
   ]
  }
 ],
 "metadata": {
  "kernelspec": {
   "display_name": "Python",
   "language": "python",
   "name": "conda-env-python-py"
  },
  "language_info": {
   "codemirror_mode": {
    "name": "ipython",
    "version": 3
   },
   "file_extension": ".py",
   "mimetype": "text/x-python",
   "name": "python",
   "nbconvert_exporter": "python",
   "pygments_lexer": "ipython3",
   "version": "3.6.10"
  }
 },
 "nbformat": 4,
 "nbformat_minor": 4
}
