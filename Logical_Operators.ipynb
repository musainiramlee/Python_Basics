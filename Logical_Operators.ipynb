{
 "cells": [
  {
   "cell_type": "markdown",
   "metadata": {},
   "source": [
    "## **Logical Operators**"
   ]
  },
  {
   "cell_type": "markdown",
   "metadata": {},
   "source": [
    "**And** **Or** **Not** operators"
   ]
  },
  {
   "cell_type": "markdown",
   "metadata": {},
   "source": [
    "* Situation 1: Need to have both high credit rating and high income to be eligible for loan"
   ]
  },
  {
   "cell_type": "code",
   "execution_count": 2,
   "metadata": {},
   "outputs": [
    {
     "name": "stdout",
     "output_type": "stream",
     "text": [
      "Eligible for loan with normal interest\n"
     ]
    }
   ],
   "source": [
    "has_good_rating = True\n",
    "has_high_income = True\n",
    "\n",
    "if has_good_rating and has_high_income:\n",
    "    print(\"Eligible for loan with normal interest\")\n",
    "else:\n",
    "    print(\"Loan application rejected\")"
   ]
  },
  {
   "cell_type": "code",
   "execution_count": 6,
   "metadata": {},
   "outputs": [
    {
     "name": "stdout",
     "output_type": "stream",
     "text": [
      "Loan application rejected\n"
     ]
    }
   ],
   "source": [
    "has_good_rating = True\n",
    "has_high_income = False\n",
    "\n",
    "if has_good_rating and has_high_income:\n",
    "    print(\"Eligible for loan with normal interest\")\n",
    "else:\n",
    "    print(\"Loan application rejected\")"
   ]
  },
  {
   "cell_type": "code",
   "execution_count": 4,
   "metadata": {},
   "outputs": [
    {
     "name": "stdout",
     "output_type": "stream",
     "text": [
      "Loan application rejected\n"
     ]
    }
   ],
   "source": [
    "has_good_rating = False\n",
    "has_high_income = False\n",
    "\n",
    "if has_good_rating and has_high_income:\n",
    "    print(\"Eligible for loan with normal interest\")\n",
    "else:\n",
    "    print(\"Loan application rejected\")"
   ]
  },
  {
   "cell_type": "code",
   "execution_count": 5,
   "metadata": {},
   "outputs": [
    {
     "name": "stdout",
     "output_type": "stream",
     "text": [
      "Loan application rejected\n"
     ]
    }
   ],
   "source": [
    "has_good_rating = False\n",
    "has_high_income = True\n",
    "\n",
    "if has_good_rating and has_high_income:\n",
    "    print(\"Eligible for loan with normal interest\")\n",
    "else:\n",
    "    print(\"Loan application rejected\")"
   ]
  },
  {
   "cell_type": "markdown",
   "metadata": {},
   "source": [
    "as we can see above **and** operator needs both condition to be fulfiled"
   ]
  },
  {
   "cell_type": "markdown",
   "metadata": {},
   "source": [
    "   "
   ]
  },
  {
   "cell_type": "markdown",
   "metadata": {},
   "source": [
    "* Situation 2: Need to have either high credit rating and high income to be eligible for loan"
   ]
  },
  {
   "cell_type": "code",
   "execution_count": 7,
   "metadata": {},
   "outputs": [
    {
     "name": "stdout",
     "output_type": "stream",
     "text": [
      "Eligible for loan with normal interest\n"
     ]
    }
   ],
   "source": [
    "has_good_rating = True\n",
    "has_high_income = True\n",
    "\n",
    "if has_good_rating or has_high_income:\n",
    "    print(\"Eligible for loan with normal interest\")\n",
    "else:\n",
    "    print(\"Loan application rejected\")"
   ]
  },
  {
   "cell_type": "code",
   "execution_count": 8,
   "metadata": {},
   "outputs": [
    {
     "name": "stdout",
     "output_type": "stream",
     "text": [
      "Eligible for loan with normal interest\n"
     ]
    }
   ],
   "source": [
    "has_good_rating = True\n",
    "has_high_income = False\n",
    "\n",
    "if has_good_rating or has_high_income:\n",
    "    print(\"Eligible for loan with normal interest\")\n",
    "else:\n",
    "    print(\"Loan application rejected\")"
   ]
  },
  {
   "cell_type": "code",
   "execution_count": 9,
   "metadata": {},
   "outputs": [
    {
     "name": "stdout",
     "output_type": "stream",
     "text": [
      "Eligible for loan with normal interest\n"
     ]
    }
   ],
   "source": [
    "has_good_rating = False\n",
    "has_high_income = True\n",
    "\n",
    "if has_good_rating or has_high_income:\n",
    "    print(\"Eligible for loan with normal interest\")\n",
    "else:\n",
    "    print(\"Loan application rejected\")"
   ]
  },
  {
   "cell_type": "code",
   "execution_count": 10,
   "metadata": {},
   "outputs": [
    {
     "name": "stdout",
     "output_type": "stream",
     "text": [
      "Loan application rejected\n"
     ]
    }
   ],
   "source": [
    "has_good_rating = False\n",
    "has_high_income = False\n",
    "\n",
    "if has_good_rating or has_high_income:\n",
    "    print(\"Eligible for loan with normal interest\")\n",
    "else:\n",
    "    print(\"Loan application rejected\")"
   ]
  },
  {
   "cell_type": "markdown",
   "metadata": {},
   "source": [
    "as we can see above **or** operator needs only one condition to be fulfiled"
   ]
  },
  {
   "cell_type": "markdown",
   "metadata": {},
   "source": [
    "   "
   ]
  },
  {
   "cell_type": "markdown",
   "metadata": {},
   "source": [
    "* Situation 3: Need to have both high credit rating and high income to be eligible for loan.    \n",
    "Else, if the customer has high saving, eligible for higher interest"
   ]
  },
  {
   "cell_type": "code",
   "execution_count": 14,
   "metadata": {},
   "outputs": [
    {
     "name": "stdout",
     "output_type": "stream",
     "text": [
      "Eligible for loan with normal interest\n"
     ]
    }
   ],
   "source": [
    "has_good_rating = True\n",
    "has_high_income = True\n",
    "has_high_saving = False\n",
    "\n",
    "if has_good_rating and has_high_income:\n",
    "    print(\"Eligible for loan with normal interest\")\n",
    "elif has_high_saving:\n",
    "    print(\"Eligible for loan with higher interest\")\n",
    "else:\n",
    "    print(\"Loan application rejected\")"
   ]
  },
  {
   "cell_type": "code",
   "execution_count": 18,
   "metadata": {},
   "outputs": [
    {
     "name": "stdout",
     "output_type": "stream",
     "text": [
      "Eligible for loan with normal interest\n"
     ]
    }
   ],
   "source": [
    "has_good_rating = False\n",
    "has_high_income = True\n",
    "has_high_saving = False\n",
    "\n",
    "if has_good_rating or has_high_income: #change the loan condition to only one condition\n",
    "    print(\"Eligible for loan with normal interest\")\n",
    "elif has_high_saving:\n",
    "    print(\"Eligible for loan with higher interest\")\n",
    "else:\n",
    "    print(\"Loan application rejected\")"
   ]
  },
  {
   "cell_type": "code",
   "execution_count": 19,
   "metadata": {},
   "outputs": [
    {
     "name": "stdout",
     "output_type": "stream",
     "text": [
      "Eligible for loan with higher interest\n"
     ]
    }
   ],
   "source": [
    "has_good_rating = False\n",
    "has_high_income = True\n",
    "has_high_saving = True\n",
    "\n",
    "if has_good_rating and has_high_income:\n",
    "    print(\"Eligible for loan with normal interest\")\n",
    "elif has_high_saving:\n",
    "    print(\"Eligible for loan with higher interest\")\n",
    "else:\n",
    "    print(\"Loan application rejected\")"
   ]
  },
  {
   "cell_type": "code",
   "execution_count": 20,
   "metadata": {},
   "outputs": [
    {
     "name": "stdout",
     "output_type": "stream",
     "text": [
      "Eligible for loan with normal interest\n"
     ]
    }
   ],
   "source": [
    "has_good_rating = True\n",
    "has_high_income = True\n",
    "has_high_saving = False\n",
    "\n",
    "if has_good_rating and has_high_income:\n",
    "    print(\"Eligible for loan with normal interest\")\n",
    "elif has_high_saving:\n",
    "    print(\"Eligible for loan with higher interest\")\n",
    "else:\n",
    "    print(\"Loan application rejected\")"
   ]
  },
  {
   "cell_type": "markdown",
   "metadata": {},
   "source": [
    "   "
   ]
  },
  {
   "cell_type": "markdown",
   "metadata": {},
   "source": [
    "* Situation 4: Need to have both high credit rating and high income to be eligible for loan.    \n",
    "Else, if the customer has high saving, eligible for higher interest    \n",
    "Also, need to have No criminal record"
   ]
  },
  {
   "cell_type": "code",
   "execution_count": 21,
   "metadata": {},
   "outputs": [
    {
     "name": "stdout",
     "output_type": "stream",
     "text": [
      "Loan application rejected\n"
     ]
    }
   ],
   "source": [
    "has_good_rating = True\n",
    "has_high_income = True\n",
    "has_high_saving = False\n",
    "has_criminal_record = True\n",
    "\n",
    "if (has_good_rating and has_high_income) and not has_criminal_record:\n",
    "    print(\"Eligible for loan with normal interest\")\n",
    "elif has_high_saving and not has_criminal_record:\n",
    "    print(\"Eligible for loan with higher interest\")\n",
    "else:\n",
    "    print(\"Loan application rejected\")"
   ]
  },
  {
   "cell_type": "code",
   "execution_count": 22,
   "metadata": {},
   "outputs": [
    {
     "name": "stdout",
     "output_type": "stream",
     "text": [
      "Loan application rejected\n"
     ]
    }
   ],
   "source": [
    "has_good_rating = True\n",
    "has_high_income = True\n",
    "has_high_saving = True\n",
    "has_criminal_record = True\n",
    "\n",
    "if (has_good_rating and has_high_income) and not has_criminal_record:\n",
    "    print(\"Eligible for loan with normal interest\")\n",
    "elif has_high_saving and not has_criminal_record:\n",
    "    print(\"Eligible for loan with higher interest\")\n",
    "else:\n",
    "    print(\"Loan application rejected\")"
   ]
  },
  {
   "cell_type": "code",
   "execution_count": 23,
   "metadata": {},
   "outputs": [
    {
     "name": "stdout",
     "output_type": "stream",
     "text": [
      "Eligible for loan with higher interest\n"
     ]
    }
   ],
   "source": [
    "has_good_rating = False\n",
    "has_high_income = True\n",
    "has_high_saving = True\n",
    "has_criminal_record = False\n",
    "\n",
    "if (has_good_rating and has_high_income) and not has_criminal_record:\n",
    "    print(\"Eligible for loan with normal interest\")\n",
    "elif has_high_saving and not has_criminal_record:\n",
    "    print(\"Eligible for loan with higher interest\")\n",
    "else:\n",
    "    print(\"Loan application rejected\")"
   ]
  },
  {
   "cell_type": "markdown",
   "metadata": {},
   "source": [
    "as we can see above **not** operator will change the alterna"
   ]
  }
 ],
 "metadata": {
  "kernelspec": {
   "display_name": "Python",
   "language": "python",
   "name": "conda-env-python-py"
  },
  "language_info": {
   "codemirror_mode": {
    "name": "ipython",
    "version": 3
   },
   "file_extension": ".py",
   "mimetype": "text/x-python",
   "name": "python",
   "nbconvert_exporter": "python",
   "pygments_lexer": "ipython3",
   "version": "3.6.10"
  }
 },
 "nbformat": 4,
 "nbformat_minor": 4
}
