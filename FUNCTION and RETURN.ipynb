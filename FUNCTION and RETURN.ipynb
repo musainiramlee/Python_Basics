{
 "cells": [
  {
   "cell_type": "markdown",
   "metadata": {},
   "source": [
    "### **FUNCTIONS and RETURN in Python**"
   ]
  },
  {
   "cell_type": "markdown",
   "metadata": {},
   "source": [
    "* We can define any statement as pre-set function that can be used to simplify our script."
   ]
  },
  {
   "cell_type": "code",
   "execution_count": 23,
   "metadata": {},
   "outputs": [
    {
     "data": {
      "text/plain": [
       "153.94"
      ]
     },
     "execution_count": 23,
     "metadata": {},
     "output_type": "execute_result"
    }
   ],
   "source": [
    "# Example\n",
    "import math\n",
    "\n",
    "def area_square(radius):\n",
    "    return round((math.pi * (radius**2)),2)\n",
    "\n",
    "area_square(7)"
   ]
  },
  {
   "cell_type": "markdown",
   "metadata": {},
   "source": [
    "* We can also use functions to help with repetitive script"
   ]
  },
  {
   "cell_type": "code",
   "execution_count": 32,
   "metadata": {},
   "outputs": [
    {
     "name": "stdin",
     "output_type": "stream",
     "text": [
      "What is your First Name?  Musaini\n",
      "What is your Last name?  Ramlee\n"
     ]
    },
    {
     "name": "stdout",
     "output_type": "stream",
     "text": [
      "\n",
      "Hi Musaini Ramlee!\n",
      "Welcome aboard.\n",
      "Thank you for flying with Malaysia Airlines\n"
     ]
    }
   ],
   "source": [
    "def greeting_form():\n",
    "    first_name = input('What is your First Name? ')\n",
    "    last_name = input('What is your Last name? ')\n",
    "    print('')\n",
    "    print(f'Hi {first_name} {last_name}!')\n",
    "    print('Welcome aboard.')\n",
    "    print('Thank you for flying with Malaysia Airlines')\n",
    "\n",
    "greeting_form() # Look here, we can always recall this function as a default script whenever we want to greet new customer"
   ]
  },
  {
   "cell_type": "markdown",
   "metadata": {},
   "source": [
    "   "
   ]
  },
  {
   "cell_type": "markdown",
   "metadata": {},
   "source": [
    "* Obviously, function can also help us in more complicated case"
   ]
  },
  {
   "cell_type": "code",
   "execution_count": 37,
   "metadata": {},
   "outputs": [
    {
     "name": "stdin",
     "output_type": "stream",
     "text": [
      "Price per unit?  13\n",
      "How many unit for this order?  9\n",
      "Total weight of this order?  234\n"
     ]
    },
    {
     "name": "stdout",
     "output_type": "stream",
     "text": [
      "Total cost of this order including shipping and tax is:\n"
     ]
    },
    {
     "data": {
      "text/plain": [
       "248.04"
      ]
     },
     "execution_count": 37,
     "metadata": {},
     "output_type": "execute_result"
    }
   ],
   "source": [
    "def total_cost(price, qty, weight):\n",
    "    total = (price*qty)\n",
    "    shipping = 0.5*weight\n",
    "    tax = 0.06*(total+shipping)\n",
    "    return(total+shipping+tax)\n",
    "\n",
    "price = float(input('Price per unit? '))\n",
    "qty = int(input('How many unit for this order? '))\n",
    "weight = int(input('Total weight of this order? '))\n",
    "print('Total cost of this order including shipping and tax is:')\n",
    "total_cost(price, qty, weight)"
   ]
  }
 ],
 "metadata": {
  "kernelspec": {
   "display_name": "Python",
   "language": "python",
   "name": "conda-env-python-py"
  },
  "language_info": {
   "codemirror_mode": {
    "name": "ipython",
    "version": 3
   },
   "file_extension": ".py",
   "mimetype": "text/x-python",
   "name": "python",
   "nbconvert_exporter": "python",
   "pygments_lexer": "ipython3",
   "version": "3.6.10"
  }
 },
 "nbformat": 4,
 "nbformat_minor": 4
}
