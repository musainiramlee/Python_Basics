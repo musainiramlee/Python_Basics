{
 "cells": [
  {
   "cell_type": "markdown",
   "metadata": {},
   "source": [
    "## **Comparison Operator**"
   ]
  },
  {
   "cell_type": "markdown",
   "metadata": {},
   "source": [
    "There are 5 comparison operators \n",
    "* < **\"Less than\"**\n",
    "* <= **\"Less than and equal\"**\n",
    "* == **\"Equal sign\"** (equal sign is not the same as the assignment sign, = symbol)\n",
    "* != **\"Not equal\"**\n",
    "* (>=) **Greater than and equal**"
   ]
  },
  {
   "cell_type": "markdown",
   "metadata": {},
   "source": [
    "  "
   ]
  },
  {
   "cell_type": "markdown",
   "metadata": {},
   "source": [
    "**Example**"
   ]
  },
  {
   "cell_type": "code",
   "execution_count": null,
   "metadata": {},
   "outputs": [],
   "source": [
    "Name='Yu'\n",
    "\n",
    "if len(Name) <= 3:\n",
    "    print('Name must be at least 3 characters')\n",
    "elif len(Name) > 50:\n",
    "    print('Name is too long, use only 50 characters max.')\n",
    "else:\n",
    "    print(\"It's a good name\")"
   ]
  },
  {
   "cell_type": "code",
   "execution_count": null,
   "metadata": {},
   "outputs": [],
   "source": [
    "Name='Andrew'\n",
    "\n",
    "if len(Name) <= 3:\n",
    "    print('Name must be at least 3 characters')\n",
    "elif len(Name) > 50:\n",
    "    print('Name is too long, use only 50 characters max.')\n",
    "else:\n",
    "    print(\"It's a good name\")"
   ]
  },
  {
   "cell_type": "code",
   "execution_count": null,
   "metadata": {},
   "outputs": [],
   "source": []
  }
 ],
 "metadata": {
  "kernelspec": {
   "display_name": "Python",
   "language": "python",
   "name": "conda-env-python-py"
  },
  "language_info": {
   "codemirror_mode": {
    "name": "ipython",
    "version": 3
   },
   "file_extension": ".py",
   "mimetype": "text/x-python",
   "name": "python",
   "nbconvert_exporter": "python",
   "pygments_lexer": "ipython3",
   "version": "3.6.10"
  }
 },
 "nbformat": 4,
 "nbformat_minor": 4
}
